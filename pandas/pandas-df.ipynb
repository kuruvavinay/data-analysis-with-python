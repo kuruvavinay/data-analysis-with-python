{
 "cells": [
  {
   "cell_type": "code",
   "execution_count": null,
   "id": "fc101cdc",
   "metadata": {},
   "outputs": [],
   "source": []
  },
  {
   "cell_type": "code",
   "execution_count": 2,
   "id": "ad98143f",
   "metadata": {},
   "outputs": [
    {
     "name": "stdout",
     "output_type": "stream",
     "text": [
      "Requirement already satisfied: pandas in c:\\users\\asus\\anaconda3\\lib\\site-packages (1.4.2)\n",
      "Requirement already satisfied: numpy>=1.18.5 in c:\\users\\asus\\anaconda3\\lib\\site-packages (from pandas) (1.21.5)\n",
      "Requirement already satisfied: python-dateutil>=2.8.1 in c:\\users\\asus\\anaconda3\\lib\\site-packages (from pandas) (2.8.2)\n",
      "Requirement already satisfied: pytz>=2020.1 in c:\\users\\asus\\anaconda3\\lib\\site-packages (from pandas) (2021.3)\n",
      "Requirement already satisfied: six>=1.5 in c:\\users\\asus\\anaconda3\\lib\\site-packages (from python-dateutil>=2.8.1->pandas) (1.16.0)\n",
      "Note: you may need to restart the kernel to use updated packages.\n"
     ]
    }
   ],
   "source": [
    "pip install pandas"
   ]
  },
  {
   "cell_type": "code",
   "execution_count": 5,
   "id": "6ebe0115",
   "metadata": {},
   "outputs": [
    {
     "name": "stdout",
     "output_type": "stream",
     "text": [
      "     name  marks section\n",
      "0   vinay     12       a\n",
      "1  vishnu     32       b\n",
      "2   vamsi     54       c\n"
     ]
    }
   ],
   "source": [
    "import pandas as pd\n",
    "import numpy as np\n",
    "name = np.array(['vinay','vishnu','vamsi'])\n",
    "marks = np.array([12,32,54])\n",
    "sec = np.array(['a','b','c'])\n",
    "x = pd.DataFrame({\"name\" : name,\"marks\" : marks,\n",
    "\"section\" :sec})\n",
    "print(x)"
   ]
  },
  {
   "cell_type": "code",
   "execution_count": 6,
   "id": "96bfdb00",
   "metadata": {},
   "outputs": [
    {
     "name": "stdout",
     "output_type": "stream",
     "text": [
      "name       vishnu\n",
      "marks          32\n",
      "section         b\n",
      "Name: 1, dtype: object\n"
     ]
    }
   ],
   "source": [
    "print(x.loc[1])"
   ]
  },
  {
   "cell_type": "code",
   "execution_count": 14,
   "id": "43995761",
   "metadata": {},
   "outputs": [
    {
     "name": "stdout",
     "output_type": "stream",
     "text": [
      "     name  marks section\n",
      "0   vinay     12       a\n",
      "1  vishnu     32       b\n"
     ]
    }
   ],
   "source": [
    "print(x.iloc[0:2])"
   ]
  },
  {
   "cell_type": "code",
   "execution_count": 15,
   "id": "653ce76e",
   "metadata": {},
   "outputs": [
    {
     "name": "stdout",
     "output_type": "stream",
     "text": [
      "     name  marks section\n",
      "0   vinay     12       a\n",
      "1  vishnu     32       b\n",
      "2   vamsi     54       c\n"
     ]
    }
   ],
   "source": [
    "print(x.loc[0:2])"
   ]
  },
  {
   "cell_type": "markdown",
   "id": "e7d2db0d",
   "metadata": {},
   "source": [
    "see the difference b/w the iloc and loc"
   ]
  },
  {
   "cell_type": "code",
   "execution_count": 23,
   "id": "dd713ff0",
   "metadata": {},
   "outputs": [
    {
     "name": "stdout",
     "output_type": "stream",
     "text": [
      "    name  marks section\n",
      "0  vinay     12       a\n"
     ]
    }
   ],
   "source": [
    "print(x.loc[x['name']=='vinay'])"
   ]
  },
  {
   "cell_type": "code",
   "execution_count": 26,
   "id": "1648821d",
   "metadata": {},
   "outputs": [
    {
     "name": "stdout",
     "output_type": "stream",
     "text": [
      "0     True\n",
      "1    False\n",
      "2    False\n",
      "Name: name, dtype: bool\n"
     ]
    }
   ],
   "source": [
    "print(x['name']=='vinay')"
   ]
  },
  {
   "cell_type": "markdown",
   "id": "97c12351",
   "metadata": {},
   "source": [
    "x.read_csv()\n",
    "x.head()\n",
    "x.isnull()\n",
    "x.isnull().sum()\n",
    "x[x.isnull().any(axis=1)]\n",
    "<br>\n",
    "for more reference : https://learn.microsoft.com/en-in/training/modules/explore-analyze-data-with-python/3-exercise-explore-data\n",
    "\n"
   ]
  },
  {
   "cell_type": "code",
   "execution_count": null,
   "id": "fc3dad67",
   "metadata": {},
   "outputs": [],
   "source": []
  }
 ],
 "metadata": {
  "kernelspec": {
   "display_name": "Python 3 (ipykernel)",
   "language": "python",
   "name": "python3"
  },
  "language_info": {
   "codemirror_mode": {
    "name": "ipython",
    "version": 3
   },
   "file_extension": ".py",
   "mimetype": "text/x-python",
   "name": "python",
   "nbconvert_exporter": "python",
   "pygments_lexer": "ipython3",
   "version": "3.9.12"
  }
 },
 "nbformat": 4,
 "nbformat_minor": 5
}
